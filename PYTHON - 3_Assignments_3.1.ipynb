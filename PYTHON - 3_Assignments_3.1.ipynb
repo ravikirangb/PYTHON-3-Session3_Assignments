{
 "cells": [
  {
   "cell_type": "code",
   "execution_count": 1,
   "metadata": {},
   "outputs": [
    {
     "name": "stdout",
     "output_type": "stream",
     "text": [
      "myreduce() is \n",
      "\n",
      "The largest number in the list is: 2000\n",
      "The sum of the list elements is: 258\n",
      "My_filter-: [5, 10, 20, 25, 35, 40, 50, 55, 65, 70, 80, 85, 95]\n",
      "Python Filter: [5, 10, 20, 25, 35, 40, 50, 55, 65, 70, 80, 85, 95]\n"
     ]
    }
   ],
   "source": [
    "# -*- coding: utf-8 -*-\n",
    "\"\"\"\n",
    "Created on Sat Jun 16 19:34:23 2018\n",
    "\n",
    "@author: 1000091\n",
    "\n",
    "Problem Statement 1:\n",
    "Write a Python Program to implement your own myreduce() function which works exactly\n",
    "like Python's built-in function reduce()\n",
    "\n",
    "Problem Statement 2:\n",
    "Write a Python program to implement your own myfilter() function which works exactly\n",
    "like Python's built-in function filter()\n",
    "\"\"\"\n",
    "\n",
    "def myreduce(function, IList):\n",
    "    list= iter(IList)\n",
    "    value = next(list)\n",
    "    for elements in list:\n",
    "        value = function(value, elements)\n",
    "    return value\n",
    "\n",
    "print('myreduce() is \\n')\n",
    "\n",
    "IList = [100,2000,300,400]\n",
    "LargestNumber = myreduce(lambda x, y: x if x > y else y, IList)\n",
    "print(\"The largest number in the list is:\", LargestNumber)\n",
    "\n",
    "Sum = myreduce(lambda x, y: x + y, [18,28,38,48,58,68])\n",
    "print(\"The sum of the list elements is:\", Sum)\n",
    "\n",
    "##########################################\n",
    "\n",
    "\n",
    "#data = [100,101,102,103,104,105,106,107,108,109,110]\n",
    "\n",
    "def my_filter(function, inputlist):\n",
    "    result = [item for item in inputlist if function(item)]\n",
    "    return result    \n",
    "\n",
    "PyFunc = filter((lambda x: x % 5 == 0 and x % 3 != 0), range(100))\n",
    "\n",
    "MyFunc = my_filter((lambda x: x % 5 == 0 and x % 3 != 0), range(100))\n",
    "print (\"My_filter-:\", MyFunc)\n",
    "print(\"Python Filter:\", list(PyFunc))"
   ]
  },
  {
   "cell_type": "code",
   "execution_count": null,
   "metadata": {},
   "outputs": [],
   "source": []
  }
 ],
 "metadata": {
  "kernelspec": {
   "display_name": "Python 3",
   "language": "python",
   "name": "python3"
  },
  "language_info": {
   "codemirror_mode": {
    "name": "ipython",
    "version": 3
   },
   "file_extension": ".py",
   "mimetype": "text/x-python",
   "name": "python",
   "nbconvert_exporter": "python",
   "pygments_lexer": "ipython3",
   "version": "3.6.4"
  }
 },
 "nbformat": 4,
 "nbformat_minor": 2
}
